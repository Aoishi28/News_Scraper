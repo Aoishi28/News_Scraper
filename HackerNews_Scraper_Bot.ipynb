{
 "cells": [
  {
   "cell_type": "code",
   "execution_count": 1,
   "metadata": {},
   "outputs": [],
   "source": [
    "from bs4 import BeautifulSoup\n",
    "import urllib.request as req\n",
    "import pandas as pd\n",
    "import os\n"
   ]
  },
  {
   "cell_type": "code",
   "execution_count": 2,
   "metadata": {},
   "outputs": [
    {
     "name": "stdout",
     "output_type": "stream",
     "text": [
      "Enter how many pages of news you want to fetch : 5\n",
      "['Why Lichess will always be free', 'Beej’s Guide to C Programming [pdf]', 'Bugs allowed hackers to dox John Deere tractor owners', 'Apple’s M1 Positioning Mocks the Entire x86 Business Model', \"'World’s most powerful' tidal turbine sets sail from Dundee\", 'The Boyer-Moore Fast String Searching Algorithm', 'Police search cryptocurrency trading firm after Turks say they were scammed', \"Apple Is Sued for Telling You That You're “Buying” Movies\", 'Cerebras’ new monster AI chip adds 1.4T transistors', \"The Rise of North Korea's Hacking Army\", 'Simone Weil and the Need for Roots', 'Moving Forth (1993)', 'Stranded sailor allowed to leave abandoned ship after four years', 'Some useful regular expressions for programmers', \"Cooperative male dolphins can tell who's on their team\", 'GitHub Actions update: Helping maintainers combat bad actors', 'Lambda: The Ultimate Excel Worksheet Function', 'Quandaries of Quinine', 'Noise in Creative Coding', 'Must Love Bogs', 'Ask HN: Is there a way to efficiently subscribe to an SQL query for changes?', \"Web developer's guide to AVIF images\", \"The USPS is running a 'covert' program to monitor Americans' social media posts\", 'Maxwell’s Demon Continues to Startle Scientists', 'Court clears 39 Post Office staff convicted due to ‘corrupt data’', \"EFF sues Proctorio on behalf of student falsely DMCA'd\", 'Boyer-Moore string search algorithm explanation and formal verification', 'My three-year-old has taught me the value of talking to strangers', 'BuildZoom (better way to build custom homes) is hiring remote engineers', 'Headless WYSISWYG Text Editor – tiptap editor', 'OPNsense and HardenedBSD are parting ways', 'Semgrep: Semantic grep for code', 'Mars Helicopter successfully completed its second flight', '“They introduce kernel bugs on purpose”', 'Argentine version of Google falls into “wrong” hands', 'On Being an Outsider', 'FFmpeg and a Thousand Fixes (2014)', 'From WinZips to GIFs, Jacob Ziv’s Algorithms Have Powered Decades of Compression', 'X11 Universal File Opener and XDG Mess', 'The culture war is killing us [video]', 'Exploiting vulnerabilities in Cellebrite UFED and Physical Analyzer', 'Unicode Proposal – Textile Care Symbols', 'Zellij – A Terminal Workspace and Multiplexer', 'A new biography of Louise Fitzhugh, who wrote “Harriet the Spy”', 'Designing sockfuzzer, a network syscall fuzzer for XNU', 'Spry Error Handling', 'Green vs. Brown Programming Languages', \"Tesla's Autopilot 'tricked' to operate without driver\", 'The Case of the Connection Timeout', 'Filecoin, StorJ and the problem with decentralized storage (2019)', 'Optimizing RigelEngine’s OpenGL Rendering for the Raspberry Pi', 'Show HN: Earth Day dashboard for the Reef ~ 11.8k mins / 3k contribs today', 'The Asses of Parnassus', 'Show HN: I made a sandbox game to help with financial planning', 'Battle of document info extraction services: GCP vs. AWS vs. Azure', 'Tiny Container Challenge: Building a 6kB Containerized HTTP Server', 'Challenges Building an Open-Source E Ink Laptop', 'Show HN: DbGate – open-source, cross-platform SQL+noSQL database client', 'Show HN: Automated Binance Trading Bot – Buy Low/Sell High', 'Explaining 4K 60Hz Video Through USB-C Hub (2019)', 'Blender 2021 Roadmap', 'Researchers Take Down Botnet Pretending to Be Millions of People Watching TV', 'Pgvector – vector similarity search for Postgres', 'LuaRT, a comprehensive framework for Windows to develop in Lua', 'Software Engineering Body of Knowledge', 'Wildtype: Sushi-grade salmon grown from Pacific Salmon cells', \"Postal Service monitoring Americans' social media for 'inflammatory' content\", 'Godot 3.3', 'The tragic tale of Monica Jones', 'Waking Up During Surgery (2019)', 'Ubuntu 21.04 Is Here', 'A Collection of Modern/Faster/Saner Alternative Unix Commands', 'How to navigate directories faster with Bash (2015)', 'JP Morgan given lower sustainability rating after funding failed EU Super League', 'Help users log in across affiliated sites on Chrome', 'The real reason to end the death penalty', 'Show HN: I built a tool to generate triangulated art from images', 'Pyodide Spin Out and 0.17 Release', 'Video Games as High Art? Roger Ebert and the cultural abyss (2009)', 'Reimagining video infrastructure to empower YouTube', 'Wisconsin has negotiated a dramatically scaled-back deal with Foxconn', 'Show HN: My cofounder and I created a social platform for investment ideas', 'The anti-pattern of responsive design', 'Cool Tool of the Day (1997)', 'Jack Dorsey claims Bitcoin incentivizes renewable energy', 'Mars sucks', 'How to find a job as Software Developer in Germany', 'Why is Biden selling weapons to a country that helped make Yemen a ‘hell hole’?', 'A Doctor’s Dark Year', 'Ask HN: Small dev agency. How to grow our business?', 'Show HN: Diffie-Hellman exchange for the layman', 'Apple Introduces AirTag', 'YouTube is now building its own video-transcoding chips', 'Show HN: Human Lambdas – Create Human in the Loop queues and outsource them', \"Crew of 'Ever Given' Could Be Stuck on the Big Boat for Years\", 'Converting Markdown to ePub or Mobi Using Pandoc', 'Is it normal for companies to change their compensation package after starting?', 'My collection of machine learning paper notes', 'Why does trying to break into the NT 3.1 kernel reboot my 486DX4 machine?', 'Show HN: Litmaps – Visual Research Discovery Tool', 'How to fuck up software releases (2019)', 'SolarBatteryBitcoin', \"Running code within another process's address space\", \"Travis Kalanick's CloudKitchens Repeats Uber Playbook, Loses Staff\", 'Zellij: A Terminal Workspace and Multiplexer Written in Rust', 'The Earth Archive – Lidar scan the entire surface of the Earth', 'Ask HN: Moving from a product org to a consulting org: What should I know?', 'Do Things That Will Surpass Your Life', \"Maria Stepanova, one of Russia's greatest living poets, comes to America\", 'SponsorBlock – Skip over sponsorship segments on YouTube', 'Jonathan Smith walks free after 21 years of wrongful imprisonment', 'American Honey Is Radioactive from Decades of Nuclear Bomb Testing', 'Digital Underground’s Shock G has died', 'Organizing Programs Without Classes (1991) [pdf]', 'Doubts about teapot supremacy: my reply to Richard Borcherds', 'Mythbusting Tidal’s MQA Format – How Does It Measure Up?', 'Europe’s Super League scores an own goal', '4chan founder Chris Poole (“Moot”) has left Google', 'Show HN: I made a tool to communicate data using the PC speaker', 'Btrfs on Zoned Block Devices', 'Tetris-OS: An operating system that only plays Tetris', 'Hunting down the stuck BGP routes', 'India’s second wave', \"Show HN: I'm working on a open-source, self-hosted alternative to Disqus\", 'Ask HN: How are you hedging against inflation?', 'Virginia moving to eliminate all accelerated math courses before 11th grade', 'Oxford Malaria vaccine proves highly effective in Burkina Faso trial', 'Starting a new digital identity', \"The Finnish soldier who took his entire troop's meth supply\", 'OpenCV AI Competition 2021 Highlights and Team Profiles Part 1', 'Torvalds says submitting known buggy kernel patches is a breach of trust', 'Tracking the WhatsApp habits of random smartphones', 'DNA of giant ‘corpse flower’ parasite surprises biologists', 'A new $69M NFT was sleepminted', 'SpaceX launch webcast: Crew-2 mission', 'Daily Mail owner sues Google over search results', 'Netdata: Open-source real-time monitoring platform', \"Decompiling FlatBuffers case study: Facebook's GraphQL schema (2020)\", 'Manhattan DA says his office to stop prosecuting prostitution', \"Ask HN: Maybe I'm just not smart enough?\", 'Prisma – ORM for Node.js and TypeScript', 'MEPs call for European AI rules to ban biometric surveillance in public', 'Initial preview of GUI app support for the Windows Subsystem for Linux', 'Sean Astin is the greatest BASIC programmer of our generation', 'Colouring London (2020)', 'Avg. Transaction Fee of Bitcoin Surpassed the Peak from 2017', 'Scratch Holograms FAQ (1996)', 'Sleep deprivation impairs molecular clearance from the human brain', 'How many x86 instructions are there? (2016)', 'Comparing the New Generation of Build Tools']\n",
      "['https://lichess.org/blog/YF-ZORQAACAA89PI/why-lichess-will-always-be-free.', 'http://beej.us/guide/bgc/pdf/bgc_usl_c_1.pdf', 'https://www.vice.com/en/article/4avy8j/bugs-allowed-hackers-to-dox-all-john-deere-owners', 'https://www.extremetech.com/computing/322120-apples-m1-positioning-mocks-every-x86-cpu-amd-and-intel-have-ever-launched', 'https://www.bbc.co.uk/news/uk-scotland-tayside-central-56818538', 'https://www.cs.utexas.edu/users/moore/best-ideas/string-searching/', 'https://www.reuters.com/world/middle-east/turkish-crypto-traders-file-complaints-after-access-accounts-frozen-lawyer-2021-04-22/', 'https://nofilmschool.com/apple-movie-buys', 'https://spectrum.ieee.org/tech-talk/semiconductors/processors/cerebras-giant-ai-chip-now-has-a-trillions-more-transistors', 'https://www.newyorker.com/magazine/2021/04/26/the-incredible-rise-of-north-koreas-hacking-army', 'https://paulkingsnorth.substack.com/p/the-great-unsettling', 'https://www.bradrodriguez.com/papers/moving1.htm', 'https://www.bbc.com/news/world-middle-east-56842506', 'https://lemire.me/blog/2021/04/22/some-useful-regular-expressions-for-programmers/', 'https://phys.org/news/2021-04-ally-cooperative-male-dolphins-team.html', 'https://github.blog/2021-04-22-github-actions-update-helping-maintainers-combat-bad-actors/', 'https://www.microsoft.com/en-us/research/blog/lambda-the-ultimatae-excel-worksheet-function/', 'https://jhiblog.org/2021/04/07/quandaries-of-quinine/', 'https://varun.ca/noise/', 'https://thebaffler.com/latest/must-love-bogs-emory', 'item?id=26901352', 'https://darekkay.com/blog/avif-images/', 'https://news.yahoo.com/the-postal-service-is-running-a-running-a-covert-operations-program-that-monitors-americans-social-media-posts-160022919.html', 'https://www.quantamagazine.org/how-maxwells-demon-continues-to-startle-scientists-20210422/', 'https://www.theguardian.com/uk-news/2021/apr/23/court-clears-39-post-office-staff-convicted-due-to-corrupt-data', 'https://www.eff.org/press/releases/eff-sues-proctorio-behalf-student-it-falsely-accused-copyright-infringement-get', 'https://yurichev.com/news/20210421_boyer_moore/', 'https://www.economist.com/1843/2021/04/20/my-three-year-old-has-taught-me-the-value-of-talking-to-strangers', 'https://jobs.lever.co/buildzoom', 'https://www.tiptap.dev/', 'https://forum.opnsense.org/index.php?topic=22761.msg108313#msg108313', 'https://semgrep.dev', 'https://twitter.com/NASAJPL/status/1385228111323615239', 'https://lore.kernel.org/linux-nfs/YH+zwQgBBGUJdiVK@unreal/', 'https://en.mercopress.com/2021/04/22/argentine-version-of-google-falls-into-wrong-hands-leading-to-search-engine-s-temporary-collapse', 'https://lithub.com/on-being-an-outsider-words-by-charles-simic-photos-romeo-alaeff/', 'https://security.googleblog.com/2014/01/ffmpeg-and-thousand-fixes.html', 'https://spectrum.ieee.org/geek-life/profiles/from-winzips-to-cat-gifs-jacob-zivs-algorithms-have-powered-decades-of-compression', 'https://vermaden.wordpress.com/2021/04/22/freebsd-desktop-part-24-configuration-universal-file-opener/', 'https://www.youtube.com/watch?v=0DRHn_Dz_js', 'https://signal.org/blog/cellebrite-vulnerabilities/', 'https://github.com/Crissov/unicode-proposals/issues/410', 'http://zellij.dev/news/beta#', 'https://www.publicbooks.org/when-the-writing-takes-over-the-writer/', 'https://googleprojectzero.blogspot.com/2021/04/designing-sockfuzzer-network-syscall.html', 'http://goran.krampe.se/2021/04/21/spry-error-handling/', 'https://earthly.dev/blog/brown-green-language/', 'https://www.bbc.co.uk/news/technology-56854417', 'https://mysteries.wizardzines.com/connection-timeout.html', 'https://randomoracle.wordpress.com/2019/12/07/filecoin-storj-and-the-problem-with-decentralized-storage/', 'https://lethalguitar.wordpress.com/2021/04/22/optimizing-rigelengines-opengl-rendering-for-the-raspberry-pi/', 'https://greatreefcensus.org/event/earthday', 'https://assesofparnassus.tumblr.com/', 'https://simulator.money/', 'https://www.crosstab.io/product-comparisons/document-form-extraction', 'https://devopsdirective.com/posts/2021/04/tiny-container-image/', 'https://alexsoto.dev/challenges-building-an-open-source-eink-laptop.html', 'https://dbgate.org/', 'https://github.com/chrisleekr/binance-trading-bot', 'https://www.bigmessowires.com/2019/05/19/explaining-4k-60hz-video-through-usb-c-hub/', 'https://code.blender.org/2021/04/blender-2021-roadmap/', 'https://gizmodo.com/researchers-take-down-botnet-pretending-to-be-millions-1846726865', 'https://github.com/ankane/pgvector', 'https://www.luart.org/', 'https://www.computer.org/education/bodies-of-knowledge/software-engineering', 'https://www.wildtypefoods.com/oursalmon', 'https://www.businessinsider.com/usps-running-covert-program-that-monitors-americans-social-media-per-report', 'https://godotengine.org/article/godot-3-3-has-arrived', 'https://www.theoldie.co.uk/blog/the-tragic-tale-of-monica-jones-philip-larkins-girlfriend', 'https://mosaicscience.com/story/anaesthesia-anesthesia-awake-awareness-surgery-operation-or-paralysed/', 'https://ubuntu.com/blog/ubuntu-21-04-is-here', 'https://github.com/ibraheemdev/modern-unix', 'https://mhoffman.github.io/2015/05/21/how-to-navigate-directories-with-the-shell.html', 'https://www.theguardian.com/business/2021/apr/21/jp-morgan-chase-gets-sustainability-downgrade-standard-ethics-after-funding-failed-super-league', 'https://blog.chromium.org/2021/04/help-users-log-in-across-affiliated.html', 'http://paulgraham.com/real.html', 'https://github.com/RH12503/Triangula', 'https://hacks.mozilla.org/2021/04/pyodide-spin-out-and-0-17-release/', 'http://doomlaser.com/videogames-as-high-art/?hn', 'https://blog.youtube/inside-youtube/new-era-video-infrastructure/', 'https://arstechnica.com/tech-policy/2021/04/wisconsin-drastically-scales-back-politically-charged-deal-with-foxconn/', 'https://info.utradea.com/feed', 'http://john.ankarstrom.se/responsive/', 'https://web.archive.org/web/19970711071555/http://www.cooltool.com/apr96.html', 'https://twitter.com/jack/status/1384903902907314176', 'https://www.marssucks.com/', 'https://germantechjobs.de/blog/how-to-find-job-as-software-developer-in-germany-complete-guide', 'https://responsiblestatecraft.org/2021/04/22/why-is-biden-selling-weapons-to-a-country-that-helped-make-yemen-a-hell-hole/', 'https://www.newyorker.com/science/medical-dispatch/a-doctors-dark-year', 'item?id=26909064', 'https://borisreitman.com/privacy.html', 'https://www.apple.com/newsroom/2021/04/apple-introduces-airtag/', 'https://arstechnica.com/gadgets/2021/04/youtube-is-now-building-its-own-video-transcoding-chips/', 'https://humanlambdas.com/', 'https://jalopnik.com/crew-of-ever-given-really-dont-want-to-spend-years-stuc-1846730643', 'https://themythicalengineer.com/converting-markdown-to-epub-mobi.html', 'item?id=26909813', 'https://www.notion.so/Paper-Notes-by-Vitaly-Kurin-97827e14e5cd4183815cfe3a5ecf2f4c', 'https://retrocomputing.stackexchange.com/q/19655/7932', 'https://app.litmaps.co', 'https://drewdevault.com/2019/10/12/how-to-fuck-up-releases.html', 'https://github.com/ARKInvest/SolarBatteryBitcoin', 'https://lwn.net/SubscriberLink/852662/af59b68d9663b1a0/', 'https://www.businessinsider.com/travis-kalanicks-cloudkitchens-repeats-uber-playbook-loses-staff-2021-4', 'https://zellij.dev/news/beta/', 'https://www.theeartharchive.com/', 'item?id=26901468', 'https://zeynepevecen.com/surpass-your-life/', 'https://www.poetryfoundation.org/articles/155823/memory-tricks', 'https://sponsor.ajay.app/', 'https://innocenceproject.org/jonathan-smith-walks-free-after-21-years-of-wrongful-imprisonment-in-maryland/', 'https://www.vice.com/en/article/5dbzan/american-honey-is-radioactive-from-decades-of-nuclear-bomb-testing', 'https://music.avclub.com/r-i-p-digital-undergrounds-shock-g-1846745519', 'https://bibliography.selflanguage.org/_static/organizing-programs.pdf', 'https://www.scottaaronson.com/blog/?p=5460', 'https://hackaday.com/2021/04/21/mythbusting-tidals-mqa-format-how-does-it-measure-up/', 'https://www.economist.com/business/2021/04/22/europes-super-league-scores-a-spectacular-own-goal', 'https://www.cnbc.com/2021/04/22/4chan-founder-chris-poole-moot-has-left-google.html', 'https://github.com/ggerganov/ggwave/tree/master/examples/r2t2', 'https://lwn.net/SubscriberLink/853308/c386b5aab35db7b6/', 'https://github.com/jdah/tetris-os', 'https://blog.benjojo.co.uk/post/bgp-stuck-routes-tcp-zero-window', 'https://www.ft.com/content/683914a3-134f-40b6-989b-21e0ba1dc403', 'https://cusdis.com', 'item?id=26911502', 'https://www.foxnews.com/us/virginia-accelerated-math-courses-equity', 'https://www.theguardian.com/world/2021/apr/23/oxford-malaria-vaccine-proves-highly-effective-in-burkina-faso-trial', 'https://k3tan.com/starting-a-new-digital-identity', 'https://www.iflscience.com/health-and-medicine/the-finnish-soldier-who-took-his-entire-troops-methamphetamine-supply-while-skiing-away-from-the-russians/', 'https://opencv.org/opencv-ai-competition-2021-highlights-and-team-profiles-part-1/', 'https://itwire.com/open-source/torvalds-says-submitting-known-buggy-patches-is-a-breach-of-trust.html', 'https://jorislacance.fr/blog/2021/04/16/whatsapp-tracking-2', 'https://www.quantamagazine.org/dna-of-giant-corpse-flower-parasite-surprises-biologists-20210421/', 'https://nftheft.com/', 'https://www.youtube.com/watch?v=lW07SN3YoLI', 'https://www.bbc.co.uk/news/business-56828173', 'https://github.com/netdata/netdata', 'https://cajum.github.io/fbgraphql/', 'https://www.npr.org/2021/04/21/989588072/a-relic-and-burden-manhattan-district-attorney-to-stop-prosecuting-prostitution', 'item?id=26902219', 'https://www.prisma.io/blog/prisma-the-complete-orm-inw24qjeawmb', 'https://www.yahoo.com/news/meps-call-european-ai-rules-201215526.html', 'https://devblogs.microsoft.com/commandline/the-initial-preview-of-gui-app-support-is-now-available-for-the-windows-subsystem-for-linux-2/', 'https://specularrealms.com/2021/04/21/strangest-things/', 'https://blogs.ucl.ac.uk/survey-of-london/2020/04/06/colouring-london-2/', 'https://bitinfocharts.com/comparison/transactionfees-btc-xrp.html', 'http://amasci.com/amateur/holohint.html', 'https://academic.oup.com/brain/article/144/3/863/6214917', 'https://fgiesen.wordpress.com/2016/08/25/how-many-x86-instructions-are-there/', 'https://css-tricks.com/comparing-the-new-generation-of-build-tools']\n"
     ]
    }
   ],
   "source": [
    "title=[]\n",
    "link=[]\n",
    "page=1\n",
    "pages=int(input(\"Enter how many pages of news you want to fetch : \"))\n",
    "for page in range(pages):\n",
    "    url = 'https://news.ycombinator.com/news?p='+str(page+1)\n",
    "    response = req.urlopen(url) #To open the url\n",
    "    data = response.read() \n",
    "    soup = BeautifulSoup(data, \"lxml\") \n",
    "    items = soup.find(\"table\", {\"class\": \"itemlist\"}).find_all(\"a\", {\"class\": \"storylink\"}) #To seach for the elements\n",
    "\n",
    "    for i in items:\n",
    "        t=i.text\n",
    "        l=i.get(\"href\") #To extract the link of the particular aticle\n",
    "        title.append(t)\n",
    "        link.append(l)\n",
    "        \n",
    "print(title)\n",
    "print(link)"
   ]
  },
  {
   "cell_type": "code",
   "execution_count": 3,
   "metadata": {},
   "outputs": [
    {
     "name": "stdout",
     "output_type": "stream",
     "text": [
      "150\n"
     ]
    }
   ],
   "source": [
    "print(len(title))"
   ]
  },
  {
   "cell_type": "code",
   "execution_count": 4,
   "metadata": {},
   "outputs": [],
   "source": [
    "data = {'Title':title, 'Links':link} \n",
    "  \n",
    "# Creates pandas DataFrame. \n",
    "df = pd.DataFrame(data) "
   ]
  },
  {
   "cell_type": "code",
   "execution_count": 5,
   "metadata": {},
   "outputs": [
    {
     "name": "stdout",
     "output_type": "stream",
     "text": [
      "                                                 Title  \\\n",
      "0                      Why Lichess will always be free   \n",
      "1                  Beej’s Guide to C Programming [pdf]   \n",
      "2    Bugs allowed hackers to dox John Deere tractor...   \n",
      "3    Apple’s M1 Positioning Mocks the Entire x86 Bu...   \n",
      "4    'World’s most powerful' tidal turbine sets sai...   \n",
      "..                                                 ...   \n",
      "145  Avg. Transaction Fee of Bitcoin Surpassed the ...   \n",
      "146                       Scratch Holograms FAQ (1996)   \n",
      "147  Sleep deprivation impairs molecular clearance ...   \n",
      "148        How many x86 instructions are there? (2016)   \n",
      "149        Comparing the New Generation of Build Tools   \n",
      "\n",
      "                                                 Links  \n",
      "0    https://lichess.org/blog/YF-ZORQAACAA89PI/why-...  \n",
      "1         http://beej.us/guide/bgc/pdf/bgc_usl_c_1.pdf  \n",
      "2    https://www.vice.com/en/article/4avy8j/bugs-al...  \n",
      "3    https://www.extremetech.com/computing/322120-a...  \n",
      "4    https://www.bbc.co.uk/news/uk-scotland-tayside...  \n",
      "..                                                 ...  \n",
      "145  https://bitinfocharts.com/comparison/transacti...  \n",
      "146            http://amasci.com/amateur/holohint.html  \n",
      "147  https://academic.oup.com/brain/article/144/3/8...  \n",
      "148  https://fgiesen.wordpress.com/2016/08/25/how-m...  \n",
      "149  https://css-tricks.com/comparing-the-new-gener...  \n",
      "\n",
      "[150 rows x 2 columns]\n"
     ]
    }
   ],
   "source": [
    "print(df)"
   ]
  },
  {
   "cell_type": "code",
   "execution_count": 6,
   "metadata": {},
   "outputs": [],
   "source": [
    "path=r'C:\\Users\\Suprakash\\Documents'\n",
    "df.to_csv(os.path.join(path,r'HackerNews.csv'), index = False)"
   ]
  },
  {
   "cell_type": "code",
   "execution_count": null,
   "metadata": {},
   "outputs": [],
   "source": []
  }
 ],
 "metadata": {
  "kernelspec": {
   "display_name": "Python 3",
   "language": "python",
   "name": "python3"
  },
  "language_info": {
   "codemirror_mode": {
    "name": "ipython",
    "version": 3
   },
   "file_extension": ".py",
   "mimetype": "text/x-python",
   "name": "python",
   "nbconvert_exporter": "python",
   "pygments_lexer": "ipython3",
   "version": "3.7.4"
  }
 },
 "nbformat": 4,
 "nbformat_minor": 2
}
